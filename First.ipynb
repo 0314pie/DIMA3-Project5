{
 "cells": [
  {
   "cell_type": "code",
   "execution_count": 1,
   "id": "121fd75d-0b6d-4a97-94cb-77bf9717ff46",
   "metadata": {},
   "outputs": [
    {
     "name": "stdout",
     "output_type": "stream",
     "text": [
      "Member1이 작업함\n"
     ]
    }
   ],
   "source": [
    "print('Member1이 작업함')"
   ]
  },
  {
   "cell_type": "code",
   "execution_count": 3,
   "id": "a55c8750-6def-4093-b93e-b03ca2477eba",
   "metadata": {},
   "outputs": [
    {
     "name": "stdout",
     "output_type": "stream",
     "text": [
      "Member1이 또 작업함\n"
     ]
    }
   ],
   "source": [
    "print('Member1이 또 작업함')"
   ]
  },
  {
   "cell_type": "code",
   "execution_count": 2,
   "id": "58fba5f2-241c-4618-8d5b-26a73d656115",
   "metadata": {},
   "outputs": [
    {
     "name": "stdout",
     "output_type": "stream",
     "text": [
      "브랜치에서 작업함\n"
     ]
    }
   ],
   "source": [
    "print('브랜치에서 작업함')"
   ]
  },
  {
   "cell_type": "code",
   "execution_count": 1,
   "id": "a8ecf5a4-cfa7-4be5-8f60-a05ae01a39b9",
   "metadata": {},
   "outputs": [
    {
     "name": "stdout",
     "output_type": "stream",
     "text": [
      "전우치가 작업함\n"
     ]
    }
   ],
   "source": [
    "print('전우치가 작업함')"
   ]
  }
 ],
 "metadata": {
  "kernelspec": {
   "display_name": "Python 3 (ipykernel)",
   "language": "python",
   "name": "python3"
  },
  "language_info": {
   "codemirror_mode": {
    "name": "ipython",
    "version": 3
   },
   "file_extension": ".py",
   "mimetype": "text/x-python",
   "name": "python",
   "nbconvert_exporter": "python",
   "pygments_lexer": "ipython3",
   "version": "3.11.5"
  }
 },
 "nbformat": 4,
 "nbformat_minor": 5
}
